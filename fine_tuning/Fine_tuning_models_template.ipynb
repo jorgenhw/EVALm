{
  "cells": [
    {
      "cell_type": "markdown",
      "metadata": {
        "id": "JKU3m0z9Vat9"
      },
      "source": [
        "# GPU, installing packages and login to WANDB"
      ]
    },
    {
      "cell_type": "code",
      "execution_count": null,
      "metadata": {
        "colab": {
          "base_uri": "https://localhost:8080/"
        },
        "id": "JGPPbq1bDyFe",
        "outputId": "b1041613-8497-4302-9c0a-802c17e8d8ac"
      },
      "outputs": [
        {
          "output_type": "stream",
          "name": "stdout",
          "text": [
            "Mon Nov 28 10:16:17 2022       \n",
            "+-----------------------------------------------------------------------------+\n",
            "| NVIDIA-SMI 460.32.03    Driver Version: 460.32.03    CUDA Version: 11.2     |\n",
            "|-------------------------------+----------------------+----------------------+\n",
            "| GPU  Name        Persistence-M| Bus-Id        Disp.A | Volatile Uncorr. ECC |\n",
            "| Fan  Temp  Perf  Pwr:Usage/Cap|         Memory-Usage | GPU-Util  Compute M. |\n",
            "|                               |                      |               MIG M. |\n",
            "|===============================+======================+======================|\n",
            "|   0  Tesla T4            Off  | 00000000:00:04.0 Off |                    0 |\n",
            "| N/A   53C    P8    10W /  70W |      0MiB / 15109MiB |      0%      Default |\n",
            "|                               |                      |                  N/A |\n",
            "+-------------------------------+----------------------+----------------------+\n",
            "                                                                               \n",
            "+-----------------------------------------------------------------------------+\n",
            "| Processes:                                                                  |\n",
            "|  GPU   GI   CI        PID   Type   Process name                  GPU Memory |\n",
            "|        ID   ID                                                   Usage      |\n",
            "|=============================================================================|\n",
            "|  No running processes found                                                 |\n",
            "+-----------------------------------------------------------------------------+\n"
          ]
        }
      ],
      "source": [
        "# Initialize GPU\n",
        "!nvidia-smi"
      ]
    },
    {
      "cell_type": "markdown",
      "metadata": {
        "id": "Hkq6fKgGViDR"
      },
      "source": [
        "## Installing required packages"
      ]
    },
    {
      "cell_type": "code",
      "execution_count": null,
      "metadata": {
        "id": "fPqH5u4AVf27",
        "colab": {
          "base_uri": "https://localhost:8080/"
        },
        "outputId": "eeb196a3-5b6a-49f7-b461-f5809ab33d35"
      },
      "outputs": [
        {
          "output_type": "stream",
          "name": "stdout",
          "text": [
            "\u001b[K     |████████████████████████████████| 5.5 MB 4.9 MB/s \n",
            "\u001b[K     |████████████████████████████████| 45 kB 4.3 MB/s \n",
            "\u001b[K     |████████████████████████████████| 451 kB 89.4 MB/s \n",
            "\u001b[K     |████████████████████████████████| 72 kB 1.7 MB/s \n",
            "\u001b[K     |████████████████████████████████| 1.9 MB 62.5 MB/s \n",
            "\u001b[K     |████████████████████████████████| 182 kB 84.3 MB/s \n",
            "\u001b[K     |████████████████████████████████| 7.6 MB 52.3 MB/s \n",
            "\u001b[K     |████████████████████████████████| 1.4 MB 73.2 MB/s \n",
            "\u001b[K     |████████████████████████████████| 793 kB 84.3 MB/s \n",
            "\u001b[K     |████████████████████████████████| 1.6 MB 63.2 MB/s \n",
            "\u001b[K     |████████████████████████████████| 115 kB 86.2 MB/s \n",
            "\u001b[K     |████████████████████████████████| 212 kB 90.4 MB/s \n",
            "\u001b[K     |████████████████████████████████| 127 kB 80.2 MB/s \n",
            "\u001b[K     |████████████████████████████████| 168 kB 89.2 MB/s \n",
            "\u001b[K     |████████████████████████████████| 182 kB 75.6 MB/s \n",
            "\u001b[K     |████████████████████████████████| 62 kB 1.4 MB/s \n",
            "\u001b[K     |████████████████████████████████| 168 kB 88.2 MB/s \n",
            "\u001b[K     |████████████████████████████████| 166 kB 96.2 MB/s \n",
            "\u001b[K     |████████████████████████████████| 166 kB 96.1 MB/s \n",
            "\u001b[K     |████████████████████████████████| 162 kB 97.3 MB/s \n",
            "\u001b[K     |████████████████████████████████| 162 kB 97.0 MB/s \n",
            "\u001b[K     |████████████████████████████████| 158 kB 92.3 MB/s \n",
            "\u001b[K     |████████████████████████████████| 157 kB 87.4 MB/s \n",
            "\u001b[K     |████████████████████████████████| 157 kB 97.3 MB/s \n",
            "\u001b[K     |████████████████████████████████| 157 kB 93.9 MB/s \n",
            "\u001b[K     |████████████████████████████████| 157 kB 90.9 MB/s \n",
            "\u001b[K     |████████████████████████████████| 157 kB 92.0 MB/s \n",
            "\u001b[K     |████████████████████████████████| 157 kB 89.7 MB/s \n",
            "\u001b[K     |████████████████████████████████| 157 kB 94.5 MB/s \n",
            "\u001b[K     |████████████████████████████████| 156 kB 79.2 MB/s \n",
            "\u001b[K     |████████████████████████████████| 998 kB 83.4 MB/s \n",
            "\u001b[?25h  Building wheel for langdetect (setup.py) ... \u001b[?25l\u001b[?25hdone\n",
            "  Building wheel for pathtools (setup.py) ... \u001b[?25l\u001b[?25hdone\n",
            "\u001b[31mERROR: pip's dependency resolver does not currently take into account all the packages that are installed. This behaviour is the source of the following dependency conflicts.\n",
            "google-colab 1.0.0 requires ipython~=7.9.0, but you have ipython 7.34.0 which is incompatible.\u001b[0m\n"
          ]
        }
      ],
      "source": [
        "!pip install -q transformers transformers-interpret datasets evaluate wandb tensorflow spacy spacy_langdetect"
      ]
    },
    {
      "cell_type": "markdown",
      "metadata": {
        "id": "Fpz2ux3nV86k"
      },
      "source": [
        "# Importing packages, data and model"
      ]
    },
    {
      "cell_type": "code",
      "execution_count": null,
      "metadata": {
        "colab": {
          "base_uri": "https://localhost:8080/"
        },
        "id": "tsAyvdU4V75M",
        "outputId": "05c9e1a0-6b1d-4550-89c1-f940ca09ca1e"
      },
      "outputs": [
        {
          "output_type": "stream",
          "name": "stderr",
          "text": [
            "WARNING:datasets.builder:Using custom data configuration ScandEval--angry-tweets-mini-0892d580b45b5ec4\n",
            "WARNING:datasets.builder:Found cached dataset parquet (/root/.cache/huggingface/datasets/ScandEval___parquet/ScandEval--angry-tweets-mini-0892d580b45b5ec4/0.0.0/2a3b91fbd88a2c90d1dbbb32b460cf621d31bd5b05b934492fdef7d8d6f236ec)\n",
            "WARNING:datasets.builder:Using custom data configuration DDSC--twitter-sent-6877aa7c00ce8b34\n",
            "WARNING:datasets.builder:Found cached dataset parquet (/root/.cache/huggingface/datasets/DDSC___parquet/DDSC--twitter-sent-6877aa7c00ce8b34/0.0.0/2a3b91fbd88a2c90d1dbbb32b460cf621d31bd5b05b934492fdef7d8d6f236ec)\n",
            "Some weights of the model checkpoint at flax-community/roberta-base-danish were not used when initializing RobertaForSequenceClassification: ['lm_head.dense.bias', 'lm_head.layer_norm.weight', 'lm_head.layer_norm.bias', 'lm_head.bias', 'lm_head.dense.weight']\n",
            "- This IS expected if you are initializing RobertaForSequenceClassification from the checkpoint of a model trained on another task or with another architecture (e.g. initializing a BertForSequenceClassification model from a BertForPreTraining model).\n",
            "- This IS NOT expected if you are initializing RobertaForSequenceClassification from the checkpoint of a model that you expect to be exactly identical (initializing a BertForSequenceClassification model from a BertForSequenceClassification model).\n",
            "Some weights of RobertaForSequenceClassification were not initialized from the model checkpoint at flax-community/roberta-base-danish and are newly initialized: ['classifier.dense.bias', 'classifier.out_proj.bias', 'classifier.dense.weight', 'classifier.out_proj.weight']\n",
            "You should probably TRAIN this model on a down-stream task to be able to use it for predictions and inference.\n"
          ]
        }
      ],
      "source": [
        "from datasets import load_dataset, load_metric #load_dataset will cache the dataset to avoid downloading it again the next time you run this cell.\n",
        "import datasets as datasets\n",
        "from transformers import AutoTokenizer, AutoModelForSequenceClassification, TrainingArguments, Trainer, EarlyStoppingCallback\n",
        "import pandas as pd\n",
        "\n",
        "# Loading data from HuggingFace\n",
        "dataset_1 = datasets.load_dataset('YOUR_DATA_SET') \n",
        "\n",
        "# Loading data from local file\n",
        "path = \"PATH_TO_YOUR_DATASET\"\n",
        "dataset_2 = pd.read_csv(path)\n",
        "\n",
        "# Loading model and tokenizer\n",
        "model_name = \"THE_MODEL_YOU_WISH_TO_INVESTIGATE\" # E.g. \"flax-community/roberta-base-danish\"\n",
        "tokenizer = AutoTokenizer.from_pretrained(model_name)\n",
        "\n",
        "model = AutoModelForSequenceClassification.from_pretrained(model_name) # beware that \"AutoModelForSequenceClassification\" will automatically add an empty linear layer on top of the model, we don't need to do that manually"
      ]
    },
    {
      "cell_type": "markdown",
      "source": [
        "# Preprocessing\n",
        "This step varies from dataset to dataset. Do not follow these steps unless they fit to your type of data. The below steps were conducted on a dataset containing Twitter tweets in Danish."
      ],
      "metadata": {
        "id": "sD71BmjaA4Vl"
      }
    },
    {
      "cell_type": "markdown",
      "source": [
        "### Removing unwanted words"
      ],
      "metadata": {
        "id": "zLLW6A8kFznG"
      }
    },
    {
      "cell_type": "code",
      "source": [
        "# Creating function to remove unwanted words\n",
        "def remove_words(sentence, unwanted_words_list):\n",
        "    tokens = sentence.split(\" \")\n",
        "    tokens_filtered= [word for word in tokens if not word in unwanted_words_list]\n",
        "    return (\" \").join(tokens_filtered)\n",
        "\n",
        "# Creating list of words to remove from the data\n",
        "stopwords = [\"link\", \"rt\", \"amp\", \"@USER\", \"[LINK]\"]\n",
        "\n",
        "YOUR_DF.COLUMN_WITH_TEXT = [remove_mystopwords(sentence, stopwords) for sentence in YOUR_DF.COLUMN_WITH_TEXT]"
      ],
      "metadata": {
        "id": "8ZAdrsSgsOpj"
      },
      "execution_count": null,
      "outputs": []
    },
    {
      "cell_type": "markdown",
      "source": [
        "### Removing non-Danish sentences"
      ],
      "metadata": {
        "id": "PUGFooJkGxii"
      }
    },
    {
      "cell_type": "code",
      "source": [
        "no_eng = 1\n",
        "no_below_4 = 1\n",
        "no_ttr_below_3 = 1\n",
        "\n",
        "if no_eng == 1:\n",
        "  import spacy\n",
        "  from spacy.language import Language\n",
        "  from spacy_langdetect import LanguageDetector\n",
        "  import numpy as np\n",
        "  import pandas as pd\n",
        "\n",
        "  def get_lang_detector(nlp, name):\n",
        "    return LanguageDetector()\n",
        "    \n",
        "  # loading the language model instance that will be used for language detection\n",
        "  nlp = spacy.load(\"en_core_web_sm\")\n",
        "  Language.factory(\"language_detector\", func=get_lang_detector)\n",
        "  nlp.add_pipe('language_detector', last=True)\n",
        "\n",
        "  # Applying the language detection to the data\n",
        "  data = [nlp(text_i)._.language for i, text_i in enumerate(YOUR_DF['COLUMN_WITH_TEXT'])]"
      ],
      "metadata": {
        "id": "RGJqIv6EufXU"
      },
      "execution_count": null,
      "outputs": []
    },
    {
      "cell_type": "markdown",
      "source": [
        "### Split data into test, training and validation"
      ],
      "metadata": {
        "id": "FGFJhSCaNSfK"
      }
    },
    {
      "cell_type": "code",
      "source": [
        "from datasets import concatenate_datasets, dataset_dict, Dataset\n",
        "\n",
        "#### combine datasets\n",
        "#dataset_combined = concatenate_datasets([raw_dataset['val'], raw_dataset['train'], raw_dataset['test']])\n",
        "\n",
        "##### 60% train, 40% test\n",
        "train_test = raw_dataset.train_test_split(test_size=0.4, seed = 42) # seed when splitting data is fairly crucial when comparing different models, to make sure they get the same test and training data.\n",
        "# 20% validation, 20% test\n",
        "test_valid = train_test['test'].train_test_split(test_size=0.5, seed = 42)\n",
        "# combining into test 60%, test 20%, val 20%\n",
        "dataset_recombined = datasets.DatasetDict({\n",
        "    'train': train_test['train'],\n",
        "    'valid': test_valid['train'],\n",
        "    'test': test_valid['test']})"
      ],
      "metadata": {
        "id": "YWR4JEiGNZyz"
      },
      "execution_count": null,
      "outputs": []
    },
    {
      "cell_type": "markdown",
      "source": [
        "### Converting dataset into dataset dict\n",
        "A format which works well with TransformersAPI: https://huggingface.co/docs/datasets/v1.1.1/loading_datasets.html"
      ],
      "metadata": {
        "id": "hKOlWXC4Iikt"
      }
    },
    {
      "cell_type": "code",
      "source": [
        "from datasets import dataset_dict, Dataset\n",
        "raw_dataset = Dataset.from_dict(df)\n",
        "raw_dataset"
      ],
      "metadata": {
        "colab": {
          "base_uri": "https://localhost:8080/"
        },
        "id": "d1Z4XPMVsQQ7",
        "outputId": "c52b7584-d73a-4d2a-c4b9-a84426b5b413"
      },
      "execution_count": null,
      "outputs": [
        {
          "output_type": "execute_result",
          "data": {
            "text/plain": [
              "Dataset({\n",
              "    features: ['text', 'label'],\n",
              "    num_rows: 3806\n",
              "})"
            ]
          },
          "metadata": {},
          "execution_count": 32
        }
      ]
    },
    {
      "cell_type": "markdown",
      "metadata": {
        "id": "BMCHKrGDW70X"
      },
      "source": [
        "\n",
        "### Tokenize data"
      ]
    },
    {
      "cell_type": "code",
      "execution_count": null,
      "metadata": {
        "colab": {
          "base_uri": "https://localhost:8080/",
          "height": 113,
          "referenced_widgets": [
            "f4d64efb679f4f6c9bc957bf1d2a00d4",
            "ec975ed4c28443c6a4c8c0c5496498cf",
            "a7322aff86f540dbb0066ad4f18ed8e6",
            "d12d1ea10c15419a813bf3c430d6dd28",
            "427c0def8d584fd987d290ebd2e7b650",
            "cbf16d5a7ec04015ba9c7bb1ebff0336",
            "8faf336977ed494ca3c1dcbaef109655",
            "0cb41813b3224fb2b5122c95e7a797f4",
            "5541bdc9c4d74ec5890158bb7d1db847",
            "fa344af4be974b60a11ea862920394d7",
            "d55c424af7004a0582428e1235087ecf",
            "6c6071ac70864869b6a988659dcae17b",
            "ba21747f291d40a09478442882f01972",
            "b4480a2a4974450fa442f81ba6102fbf",
            "6cd53cacb85540d49a77058b5d304fd9",
            "8d08aca007eb433081904c0204310ef9",
            "813e4e29fcb54113909afdb3f6300d1b",
            "5d45bc7e64004eb1b263c52c424c493d",
            "9a238f5445874706a620834688236081",
            "b8bed24945244a3b93a4b92eb85084ff",
            "2175fcb9cec043288ff8e18ce34ed0ae",
            "6b4d4da70f444d188bad19b180a54c44",
            "8120788d0f254f869d9d6b85e4cf2583",
            "d0162993232e4379ab6414aa3fa06ee3",
            "19246bcafaaf488db3992e295b253d2a",
            "5bb83b7b75a9419b98ed50e6665b5ab8",
            "eb34ed630f1d47ea88899760831ab869",
            "37748dc2a29d4385893c6152857e88bb",
            "506068e2c22f476da19d9f06cd8e92a1",
            "0c58c228205847f78202c33f220aceef",
            "224e7670a3c24c66957d1a8cb0cae2e0",
            "769bf522f4264cb7a2b573d991432491",
            "afabbfba35364718af1bd467fae32139"
          ]
        },
        "id": "uTn2lSJ0W1Lq",
        "outputId": "8f14ff2b-0341-4dd6-ed5b-d83c9a5d269a"
      },
      "outputs": [
        {
          "output_type": "display_data",
          "data": {
            "text/plain": [
              "  0%|          | 0/3 [00:00<?, ?ba/s]"
            ],
            "application/vnd.jupyter.widget-view+json": {
              "version_major": 2,
              "version_minor": 0,
              "model_id": "f4d64efb679f4f6c9bc957bf1d2a00d4"
            }
          },
          "metadata": {}
        },
        {
          "output_type": "display_data",
          "data": {
            "text/plain": [
              "  0%|          | 0/1 [00:00<?, ?ba/s]"
            ],
            "application/vnd.jupyter.widget-view+json": {
              "version_major": 2,
              "version_minor": 0,
              "model_id": "6c6071ac70864869b6a988659dcae17b"
            }
          },
          "metadata": {}
        },
        {
          "output_type": "display_data",
          "data": {
            "text/plain": [
              "  0%|          | 0/1 [00:00<?, ?ba/s]"
            ],
            "application/vnd.jupyter.widget-view+json": {
              "version_major": 2,
              "version_minor": 0,
              "model_id": "8120788d0f254f869d9d6b85e4cf2583"
            }
          },
          "metadata": {}
        }
      ],
      "source": [
        "# defining a function to tokenize the text and translate all labels into integers intead of strings\n",
        "def tokenize_function(example):\n",
        "  tokens = tokenizer(example[\"text\"], padding=\"max_length\", truncation=True, max_length=128)\n",
        "  tokens['label'] = labels_cl.str2int(example['label'])\n",
        "  return tokens\n",
        "\n",
        "tokenized_dataset = raw_dataset.map(tokenize_function, batched=True, remove_columns=raw_dataset['train'].column_names) # batched=True speeds up tokenization by allowing to process multiple lines at once"
      ]
    },
    {
      "cell_type": "markdown",
      "metadata": {
        "id": "Evh5meCGXow0"
      },
      "source": [
        "# Evaluation metrics"
      ]
    },
    {
      "cell_type": "code",
      "execution_count": null,
      "metadata": {
        "id": "FUkun4YuXN3_"
      },
      "outputs": [],
      "source": [
        "import numpy as np\n",
        "import evaluate\n",
        "\n",
        "def compute_metrics(eval_pred):\n",
        "    metric0 = evaluate.load(\"accuracy\")\n",
        "    metric1 = evaluate.load(\"precision\")\n",
        "    metric2 = evaluate.load(\"recall\")\n",
        "    metric3 = evaluate.load(\"f1\")\n",
        "\n",
        "    logits, labels = eval_pred\n",
        "    predictions = np.argmax(logits, axis=-1)\n",
        "    accuracy = metric0.compute(predictions=predictions, references=labels)[\"accuracy\"]\n",
        "    precision = metric1.compute(predictions=predictions, references=labels, average=\"weighted\")[\"precision\"]\n",
        "    recall = metric2.compute(predictions=predictions, references=labels, average=\"weighted\")[\"recall\"]\n",
        "    f1 = metric3.compute(predictions=predictions, references=labels, average=\"weighted\")[\"f1\"]\n",
        "    return {\"accuracy\": accuracy, \"precision\": precision, \"recall\": recall, \"f1\": f1}"
      ]
    },
    {
      "cell_type": "markdown",
      "metadata": {
        "id": "gIcx0Y5qX_PB"
      },
      "source": [
        "# Define early stopping function\n",
        "Early stopping stops the fune-tuning process when validation loss hasn't improved for n(early_stopping_patience) epochs"
      ]
    },
    {
      "cell_type": "code",
      "execution_count": null,
      "metadata": {
        "id": "THSR8xopXxBc"
      },
      "outputs": [],
      "source": [
        "# Adjust early_stopping_patience according to your application\n",
        "early_stop = EarlyStoppingCallback(early_stopping_patience = 8)"
      ]
    },
    {
      "cell_type": "markdown",
      "metadata": {
        "id": "4vycSmadXPjV"
      },
      "source": [
        "# Define hyperparameters "
      ]
    },
    {
      "cell_type": "code",
      "execution_count": null,
      "metadata": {
        "id": "C7hR8RmbXgw-"
      },
      "outputs": [],
      "source": [
        "batch_size = 128 # stating batch size\n",
        "epochs = 200\n",
        "learning_rate = 2e-5"
      ]
    },
    {
      "cell_type": "markdown",
      "source": [
        "# Initialize Weights and Biases (WANDB)"
      ],
      "metadata": {
        "id": "ae-aATLyO7eu"
      }
    },
    {
      "cell_type": "code",
      "source": [
        "import wandb\n",
        "wandb.login() # enter your WANDB credentials\n",
        "wandb.init(project=\"YOUR_WANDB_PROJECT\")\n",
        "\n",
        "wandb.config.dropout = 0.2"
      ],
      "metadata": {
        "colab": {
          "base_uri": "https://localhost:8080/",
          "height": 215
        },
        "id": "sseOKi04OLC9",
        "outputId": "6a762985-a922-4e0a-86dc-20c4f6ad8044"
      },
      "execution_count": null,
      "outputs": [
        {
          "output_type": "stream",
          "name": "stderr",
          "text": [
            "ERROR:wandb.jupyter:Failed to detect the name of this notebook, you can set it manually with the WANDB_NOTEBOOK_NAME environment variable to enable code saving.\n"
          ]
        },
        {
          "output_type": "display_data",
          "data": {
            "text/plain": [
              "<IPython.core.display.Javascript object>"
            ],
            "application/javascript": [
              "\n",
              "        window._wandbApiKey = new Promise((resolve, reject) => {\n",
              "            function loadScript(url) {\n",
              "            return new Promise(function(resolve, reject) {\n",
              "                let newScript = document.createElement(\"script\");\n",
              "                newScript.onerror = reject;\n",
              "                newScript.onload = resolve;\n",
              "                document.body.appendChild(newScript);\n",
              "                newScript.src = url;\n",
              "            });\n",
              "            }\n",
              "            loadScript(\"https://cdn.jsdelivr.net/npm/postmate/build/postmate.min.js\").then(() => {\n",
              "            const iframe = document.createElement('iframe')\n",
              "            iframe.style.cssText = \"width:0;height:0;border:none\"\n",
              "            document.body.appendChild(iframe)\n",
              "            const handshake = new Postmate({\n",
              "                container: iframe,\n",
              "                url: 'https://wandb.ai/authorize'\n",
              "            });\n",
              "            const timeout = setTimeout(() => reject(\"Couldn't auto authenticate\"), 5000)\n",
              "            handshake.then(function(child) {\n",
              "                child.on('authorize', data => {\n",
              "                    clearTimeout(timeout)\n",
              "                    resolve(data)\n",
              "                });\n",
              "            });\n",
              "            })\n",
              "        });\n",
              "    "
            ]
          },
          "metadata": {}
        },
        {
          "output_type": "stream",
          "name": "stderr",
          "text": [
            "\u001b[34m\u001b[1mwandb\u001b[0m: Logging into wandb.ai. (Learn how to deploy a W&B server locally: https://wandb.me/wandb-server)\n",
            "\u001b[34m\u001b[1mwandb\u001b[0m: You can find your API key in your browser here: https://wandb.ai/authorize\n",
            "wandb: Paste an API key from your profile and hit enter, or press ctrl+c to quit: "
          ]
        },
        {
          "name": "stdout",
          "output_type": "stream",
          "text": [
            "··········\n"
          ]
        },
        {
          "output_type": "stream",
          "name": "stderr",
          "text": [
            "\u001b[34m\u001b[1mwandb\u001b[0m: Appending key for api.wandb.ai to your netrc file: /root/.netrc\n",
            "\u001b[34m\u001b[1mwandb\u001b[0m: Currently logged in as: \u001b[33mjorgenhw\u001b[0m (\u001b[33mbachelor_thesis_cogsci\u001b[0m). Use \u001b[1m`wandb login --relogin`\u001b[0m to force relogin\n"
          ]
        },
        {
          "output_type": "display_data",
          "data": {
            "text/plain": [
              "<IPython.core.display.HTML object>"
            ],
            "text/html": [
              "Tracking run with wandb version 0.13.5"
            ]
          },
          "metadata": {}
        },
        {
          "output_type": "display_data",
          "data": {
            "text/plain": [
              "<IPython.core.display.HTML object>"
            ],
            "text/html": [
              "Run data is saved locally in <code>/content/wandb/run-20221128_102347-1cxs0fe6</code>"
            ]
          },
          "metadata": {}
        },
        {
          "output_type": "display_data",
          "data": {
            "text/plain": [
              "<IPython.core.display.HTML object>"
            ],
            "text/html": [
              "Syncing run <strong><a href=\"https://wandb.ai/bachelor_thesis_cogsci/bachelor_thesis_cogsci/runs/1cxs0fe6\" target=\"_blank\">dutiful-morning-148</a></strong> to <a href=\"https://wandb.ai/bachelor_thesis_cogsci/bachelor_thesis_cogsci\" target=\"_blank\">Weights & Biases</a> (<a href=\"https://wandb.me/run\" target=\"_blank\">docs</a>)<br/>"
            ]
          },
          "metadata": {}
        }
      ]
    },
    {
      "cell_type": "markdown",
      "source": [
        "# Hyperparameter tuning\n",
        "\n",
        "Framework: [Optuna](https://optuna.org/)"
      ],
      "metadata": {
        "id": "Ek2DVbL_iNyW"
      }
    },
    {
      "cell_type": "code",
      "source": [
        "!pip install -q optuna ray[tune]"
      ],
      "metadata": {
        "id": "8_HzFMTwiRTV",
        "colab": {
          "base_uri": "https://localhost:8080/"
        },
        "outputId": "edaf69d4-4b3d-4633-fc56-75a776d531d4"
      },
      "execution_count": null,
      "outputs": [
        {
          "output_type": "stream",
          "name": "stdout",
          "text": [
            "\u001b[K     |████████████████████████████████| 348 kB 4.4 MB/s \n",
            "\u001b[K     |████████████████████████████████| 59.1 MB 107.1 MB/s \n",
            "\u001b[K     |████████████████████████████████| 81 kB 12.6 MB/s \n",
            "\u001b[K     |████████████████████████████████| 209 kB 92.8 MB/s \n",
            "\u001b[K     |████████████████████████████████| 78 kB 9.4 MB/s \n",
            "\u001b[K     |████████████████████████████████| 50 kB 7.8 MB/s \n",
            "\u001b[K     |████████████████████████████████| 147 kB 90.7 MB/s \n",
            "\u001b[K     |████████████████████████████████| 112 kB 63.0 MB/s \n",
            "\u001b[K     |████████████████████████████████| 8.8 MB 71.8 MB/s \n",
            "\u001b[K     |████████████████████████████████| 125 kB 84.1 MB/s \n",
            "\u001b[K     |████████████████████████████████| 468 kB 62.4 MB/s \n",
            "\u001b[?25h  Building wheel for pyperclip (setup.py) ... \u001b[?25l\u001b[?25hdone\n"
          ]
        }
      ]
    },
    {
      "cell_type": "code",
      "source": [
        "def model_init():\n",
        "    return model #model = the model you defined earlier"
      ],
      "metadata": {
        "id": "P6hjgpg1jmRp"
      },
      "execution_count": null,
      "outputs": []
    },
    {
      "cell_type": "markdown",
      "source": [
        "**Training parameters**"
      ],
      "metadata": {
        "id": "ClAgLLiil4f0"
      }
    },
    {
      "cell_type": "code",
      "source": [
        "training_args = TrainingArguments(output_dir=model_name, \n",
        "                                  evaluation_strategy = \"epoch\",\n",
        "                                  save_strategy = \"epoch\", \n",
        "                                  num_train_epochs = epochs, \n",
        "                                  per_device_train_batch_size = batch_size,\n",
        "                                  per_device_eval_batch_size = batch_size,\n",
        "                                  learning_rate = learning_rate,\n",
        "                                  weight_decay=0.01,\n",
        "                                  load_best_model_at_end=True,\n",
        "                                  report_to=\"wandb\",\n",
        "                                  save_total_limit = 2)"
      ],
      "metadata": {
        "id": "Gug2XryfkLCA"
      },
      "execution_count": null,
      "outputs": []
    },
    {
      "cell_type": "markdown",
      "source": [
        "**Passing the information to the trainer**"
      ],
      "metadata": {
        "id": "I_QE3XuOLM2y"
      }
    },
    {
      "cell_type": "code",
      "source": [
        "trainer = Trainer(\n",
        "    model_init=model_init,\n",
        "    args=training_args,\n",
        "    train_dataset=tokenized_datasets[\"train\"],\n",
        "    eval_dataset=tokenized_datasets[\"test\"],\n",
        "    tokenizer=tokenizer,\n",
        "    compute_metrics=compute_metrics,\n",
        "    callbacks = [early_stop]\n",
        ")"
      ],
      "metadata": {
        "id": "b8YQqLEkkF8B"
      },
      "execution_count": null,
      "outputs": []
    },
    {
      "cell_type": "markdown",
      "source": [
        "**Define the hyperparameters you wish to optimze along with the ranges in which you wish to search for optimal values**\n",
        "\n",
        "Read more here: https://huggingface.co/docs/transformers/hpo_train"
      ],
      "metadata": {
        "id": "Pj4qnk2lLUIf"
      }
    },
    {
      "cell_type": "code",
      "source": [
        "def my_hp_space(trial):\n",
        "    return {\n",
        "        \"learning_rate\": trial.suggest_float(\"learning_rate\", 1e-6, 1e-4, log=True),\n",
        "        \"weight_decay\": trial.suggest_loguniform('weight_decay', 1e-4, 1e-2)\n",
        "    }"
      ],
      "metadata": {
        "id": "cBJKqZrAnS3V"
      },
      "execution_count": null,
      "outputs": []
    },
    {
      "cell_type": "markdown",
      "source": [
        "Read documentation for Optunas samplers [here](https://optuna.readthedocs.io/en/stable/reference/samplers/index.html#:~:text=Base-,class,-for%20samplers).\n",
        "\n",
        "Read documentation for Optunas pruners [here](https://optuna.readthedocs.io/en/stable/reference/pruners.html)."
      ],
      "metadata": {
        "id": "Y2ngTPf_MLrV"
      }
    },
    {
      "cell_type": "code",
      "source": [
        "import optuna\n",
        "from optuna.samplers import TPESampler\n",
        "\n",
        "sampler = optuna.samplers.TPESampler()\n",
        "pruner = optuna.pruners.MedianPruner(n_warmup_steps=10)\n",
        "\n",
        "best_run = trainer.hyperparameter_search(\n",
        "    n_trials=10, \n",
        "    direction=\"minimize\", \n",
        "    hp_space=my_hp_space, \n",
        "    backend = \"optuna\",\n",
        "    sampler = sampler,\n",
        "    pruner = pruner\n",
        "    )"
      ],
      "metadata": {
        "id": "o_TjV2GDmWx8"
      },
      "execution_count": null,
      "outputs": []
    },
    {
      "cell_type": "code",
      "source": [
        "# calling best run\n",
        "best_run"
      ],
      "metadata": {
        "id": "X1agcFogmYQj"
      },
      "execution_count": null,
      "outputs": []
    },
    {
      "cell_type": "markdown",
      "metadata": {
        "id": "EnWYUwwkYOpW"
      },
      "source": [
        "# Initialize fine-tuning\n",
        "...  with the parameters learned from hyperparameter search\n",
        "\n",
        "A lot of things are happening in the chunk below. First of all, beware that the chunk will fine-tune the model 10 times since each training is stochastic. We recommend taking the mean predictions of ten runs to get the most accurate estimates of the performance of the model."
      ]
    },
    {
      "cell_type": "code",
      "source": [
        "# Defining the trainer\n",
        "for i in range(10):\n",
        "  trainer = Trainer(\n",
        "      model=model,\n",
        "      args=training_args,\n",
        "      train_dataset=tokenized_datasets[\"train\"],\n",
        "      eval_dataset=tokenized_datasets[\"test\"],\n",
        "      compute_metrics=compute_metrics,\n",
        "      callbacks = [early_stop])\n",
        "  # Telling the trainer to use the parameters learned from hyperparameter tuning\n",
        "  for n, v in best_run.hyperparameters.items():\n",
        "      setattr(trainer.args, n, v) # for running the experiment with the best hyperparameters from the hyperparameters search\n",
        "\n",
        "  trainer.train() \n",
        "\n",
        "  trainer.evaluate()\n",
        "\n",
        "  import tensorflow as tf\n",
        "\n",
        "  # creating model predictions for the validation data\n",
        "  predictions_val = trainer.predict(tokenized_datasets[\"valid\"])\n",
        "\n",
        "  # choosing the prediction that has the highest probability \n",
        "  preds_val_val = np.argmax(predictions_val.predictions, axis=-1)\n",
        "\n",
        "  # calculating the probabilities instead of logits from each\n",
        "  predictions_probabilities = tf.nn.softmax(predictions_val.predictions)\n",
        "\n",
        "  def compute_metrics_end(preds, refs):\n",
        "      metric0 = evaluate.load(\"accuracy\")\n",
        "      metric1 = evaluate.load(\"precision\")\n",
        "      metric2 = evaluate.load(\"recall\")\n",
        "      metric3 = evaluate.load(\"f1\")\n",
        "      \n",
        "      #logits, labels = eval_pred\n",
        "      #predictions = np.argmax(logits, axis=-1)\n",
        "      accuracy = metric0.compute(predictions=preds, references=refs)[\"accuracy\"]\n",
        "      precision = metric1.compute(predictions=preds, references=refs, average=\"weighted\")[\"precision\"]\n",
        "      recall = metric2.compute(predictions=preds, references=refs, average=\"weighted\")[\"recall\"]\n",
        "      f1 = metric3.compute(predictions=preds, references=refs, average=\"weighted\")[\"f1\"]\n",
        "      return {\"accuracy\": accuracy, \"precision\": precision, \"recall\": recall, \"f1\": f1}\n",
        "\n",
        "  metrics_val = compute_metrics_end(preds=preds_val_val, refs=predictions_val.label_ids)\n",
        "\n",
        "  import tensorflow as tf\n",
        "\n",
        "  # creating model predictions for the validation data\n",
        "  predictions_test = trainer.predict(tokenized_datasets[\"test\"])\n",
        "\n",
        "  # choosing the prediction that has the highest probability \n",
        "  preds_test_test = np.argmax(predictions_test.predictions, axis=-1)\n",
        "\n",
        "  # calculating the probabilities instead of logits from each\n",
        "  predictions_probabilities_test = tf.nn.softmax(predictions_test.predictions)\n",
        "\n",
        "  metrics_test = compute_metrics_end(preds=preds_test_test, refs=predictions_test.label_ids)\n",
        "\n",
        "  import pandas as pd\n",
        "\n",
        "  data = {'Predicted Labels': [\"negative\" if i == 0 else \"neutral\" if i == 1 else \"positive\" for i in preds_val_val],\n",
        "          'True Labels': [\"negative\" if i == 0 else \"neutral\" if i == 1 else \"positive\" for i in predictions_val.label_ids],\n",
        "          'Misclassification': [\"TRUE\" if preds_val_val[i] == predictions_val.label_ids[i] else 'MISS' for i, val in enumerate(preds_val_val)],\n",
        "          'Text': dataset_recombined['valid']['text'],\n",
        "          'Logit Values': [str(i) for i in predictions_val.predictions],\n",
        "          'Probabilities': [str(i) for i in np.asarray(predictions_probabilities)]}\n",
        "  df = pd.DataFrame(data)\n",
        "  df_metrics_val = pd.DataFrame(metrics_val.items())\n",
        "  df_metrics_test = pd.DataFrame(metrics_test.items())\n",
        "\n",
        "  df.to_csv(f\"/content/drive/MyDrive/BA_data/nbailab/df_classification_report{i}.csv\")\n",
        "  df_metrics_val.to_csv(f\"/content/drive/MyDrive/BA_data/nbailab/df_classification_metrics_val{i}.csv\")\n",
        "  df_metrics_test.to_csv(f\"/content/drive/MyDrive/BA_data/nbailab/df_classification_metrics_test{i}.csv\")\n",
        "\n",
        "wandb.finish()"
      ],
      "metadata": {
        "id": "sR5zEsTidz5e"
      },
      "execution_count": null,
      "outputs": []
    }
  ],
  "metadata": {
    "colab": {
      "collapsed_sections": [
        "gVr_U-u5ZHLT"
      ],
      "provenance": []
    },
    "gpuClass": "premium",
    "kernelspec": {
      "display_name": "Python 3",
      "name": "python3"
    },
    "language_info": {
      "name": "python"
    },
    "widgets": {
      "application/vnd.jupyter.widget-state+json": {
        "f4d64efb679f4f6c9bc957bf1d2a00d4": {
          "model_module": "@jupyter-widgets/controls",
          "model_name": "HBoxModel",
          "model_module_version": "1.5.0",
          "state": {
            "_dom_classes": [],
            "_model_module": "@jupyter-widgets/controls",
            "_model_module_version": "1.5.0",
            "_model_name": "HBoxModel",
            "_view_count": null,
            "_view_module": "@jupyter-widgets/controls",
            "_view_module_version": "1.5.0",
            "_view_name": "HBoxView",
            "box_style": "",
            "children": [
              "IPY_MODEL_ec975ed4c28443c6a4c8c0c5496498cf",
              "IPY_MODEL_a7322aff86f540dbb0066ad4f18ed8e6",
              "IPY_MODEL_d12d1ea10c15419a813bf3c430d6dd28"
            ],
            "layout": "IPY_MODEL_427c0def8d584fd987d290ebd2e7b650"
          }
        },
        "ec975ed4c28443c6a4c8c0c5496498cf": {
          "model_module": "@jupyter-widgets/controls",
          "model_name": "HTMLModel",
          "model_module_version": "1.5.0",
          "state": {
            "_dom_classes": [],
            "_model_module": "@jupyter-widgets/controls",
            "_model_module_version": "1.5.0",
            "_model_name": "HTMLModel",
            "_view_count": null,
            "_view_module": "@jupyter-widgets/controls",
            "_view_module_version": "1.5.0",
            "_view_name": "HTMLView",
            "description": "",
            "description_tooltip": null,
            "layout": "IPY_MODEL_cbf16d5a7ec04015ba9c7bb1ebff0336",
            "placeholder": "​",
            "style": "IPY_MODEL_8faf336977ed494ca3c1dcbaef109655",
            "value": "100%"
          }
        },
        "a7322aff86f540dbb0066ad4f18ed8e6": {
          "model_module": "@jupyter-widgets/controls",
          "model_name": "FloatProgressModel",
          "model_module_version": "1.5.0",
          "state": {
            "_dom_classes": [],
            "_model_module": "@jupyter-widgets/controls",
            "_model_module_version": "1.5.0",
            "_model_name": "FloatProgressModel",
            "_view_count": null,
            "_view_module": "@jupyter-widgets/controls",
            "_view_module_version": "1.5.0",
            "_view_name": "ProgressView",
            "bar_style": "success",
            "description": "",
            "description_tooltip": null,
            "layout": "IPY_MODEL_0cb41813b3224fb2b5122c95e7a797f4",
            "max": 3,
            "min": 0,
            "orientation": "horizontal",
            "style": "IPY_MODEL_5541bdc9c4d74ec5890158bb7d1db847",
            "value": 3
          }
        },
        "d12d1ea10c15419a813bf3c430d6dd28": {
          "model_module": "@jupyter-widgets/controls",
          "model_name": "HTMLModel",
          "model_module_version": "1.5.0",
          "state": {
            "_dom_classes": [],
            "_model_module": "@jupyter-widgets/controls",
            "_model_module_version": "1.5.0",
            "_model_name": "HTMLModel",
            "_view_count": null,
            "_view_module": "@jupyter-widgets/controls",
            "_view_module_version": "1.5.0",
            "_view_name": "HTMLView",
            "description": "",
            "description_tooltip": null,
            "layout": "IPY_MODEL_fa344af4be974b60a11ea862920394d7",
            "placeholder": "​",
            "style": "IPY_MODEL_d55c424af7004a0582428e1235087ecf",
            "value": " 3/3 [00:00&lt;00:00,  7.51ba/s]"
          }
        },
        "427c0def8d584fd987d290ebd2e7b650": {
          "model_module": "@jupyter-widgets/base",
          "model_name": "LayoutModel",
          "model_module_version": "1.2.0",
          "state": {
            "_model_module": "@jupyter-widgets/base",
            "_model_module_version": "1.2.0",
            "_model_name": "LayoutModel",
            "_view_count": null,
            "_view_module": "@jupyter-widgets/base",
            "_view_module_version": "1.2.0",
            "_view_name": "LayoutView",
            "align_content": null,
            "align_items": null,
            "align_self": null,
            "border": null,
            "bottom": null,
            "display": null,
            "flex": null,
            "flex_flow": null,
            "grid_area": null,
            "grid_auto_columns": null,
            "grid_auto_flow": null,
            "grid_auto_rows": null,
            "grid_column": null,
            "grid_gap": null,
            "grid_row": null,
            "grid_template_areas": null,
            "grid_template_columns": null,
            "grid_template_rows": null,
            "height": null,
            "justify_content": null,
            "justify_items": null,
            "left": null,
            "margin": null,
            "max_height": null,
            "max_width": null,
            "min_height": null,
            "min_width": null,
            "object_fit": null,
            "object_position": null,
            "order": null,
            "overflow": null,
            "overflow_x": null,
            "overflow_y": null,
            "padding": null,
            "right": null,
            "top": null,
            "visibility": null,
            "width": null
          }
        },
        "cbf16d5a7ec04015ba9c7bb1ebff0336": {
          "model_module": "@jupyter-widgets/base",
          "model_name": "LayoutModel",
          "model_module_version": "1.2.0",
          "state": {
            "_model_module": "@jupyter-widgets/base",
            "_model_module_version": "1.2.0",
            "_model_name": "LayoutModel",
            "_view_count": null,
            "_view_module": "@jupyter-widgets/base",
            "_view_module_version": "1.2.0",
            "_view_name": "LayoutView",
            "align_content": null,
            "align_items": null,
            "align_self": null,
            "border": null,
            "bottom": null,
            "display": null,
            "flex": null,
            "flex_flow": null,
            "grid_area": null,
            "grid_auto_columns": null,
            "grid_auto_flow": null,
            "grid_auto_rows": null,
            "grid_column": null,
            "grid_gap": null,
            "grid_row": null,
            "grid_template_areas": null,
            "grid_template_columns": null,
            "grid_template_rows": null,
            "height": null,
            "justify_content": null,
            "justify_items": null,
            "left": null,
            "margin": null,
            "max_height": null,
            "max_width": null,
            "min_height": null,
            "min_width": null,
            "object_fit": null,
            "object_position": null,
            "order": null,
            "overflow": null,
            "overflow_x": null,
            "overflow_y": null,
            "padding": null,
            "right": null,
            "top": null,
            "visibility": null,
            "width": null
          }
        },
        "8faf336977ed494ca3c1dcbaef109655": {
          "model_module": "@jupyter-widgets/controls",
          "model_name": "DescriptionStyleModel",
          "model_module_version": "1.5.0",
          "state": {
            "_model_module": "@jupyter-widgets/controls",
            "_model_module_version": "1.5.0",
            "_model_name": "DescriptionStyleModel",
            "_view_count": null,
            "_view_module": "@jupyter-widgets/base",
            "_view_module_version": "1.2.0",
            "_view_name": "StyleView",
            "description_width": ""
          }
        },
        "0cb41813b3224fb2b5122c95e7a797f4": {
          "model_module": "@jupyter-widgets/base",
          "model_name": "LayoutModel",
          "model_module_version": "1.2.0",
          "state": {
            "_model_module": "@jupyter-widgets/base",
            "_model_module_version": "1.2.0",
            "_model_name": "LayoutModel",
            "_view_count": null,
            "_view_module": "@jupyter-widgets/base",
            "_view_module_version": "1.2.0",
            "_view_name": "LayoutView",
            "align_content": null,
            "align_items": null,
            "align_self": null,
            "border": null,
            "bottom": null,
            "display": null,
            "flex": null,
            "flex_flow": null,
            "grid_area": null,
            "grid_auto_columns": null,
            "grid_auto_flow": null,
            "grid_auto_rows": null,
            "grid_column": null,
            "grid_gap": null,
            "grid_row": null,
            "grid_template_areas": null,
            "grid_template_columns": null,
            "grid_template_rows": null,
            "height": null,
            "justify_content": null,
            "justify_items": null,
            "left": null,
            "margin": null,
            "max_height": null,
            "max_width": null,
            "min_height": null,
            "min_width": null,
            "object_fit": null,
            "object_position": null,
            "order": null,
            "overflow": null,
            "overflow_x": null,
            "overflow_y": null,
            "padding": null,
            "right": null,
            "top": null,
            "visibility": null,
            "width": null
          }
        },
        "5541bdc9c4d74ec5890158bb7d1db847": {
          "model_module": "@jupyter-widgets/controls",
          "model_name": "ProgressStyleModel",
          "model_module_version": "1.5.0",
          "state": {
            "_model_module": "@jupyter-widgets/controls",
            "_model_module_version": "1.5.0",
            "_model_name": "ProgressStyleModel",
            "_view_count": null,
            "_view_module": "@jupyter-widgets/base",
            "_view_module_version": "1.2.0",
            "_view_name": "StyleView",
            "bar_color": null,
            "description_width": ""
          }
        },
        "fa344af4be974b60a11ea862920394d7": {
          "model_module": "@jupyter-widgets/base",
          "model_name": "LayoutModel",
          "model_module_version": "1.2.0",
          "state": {
            "_model_module": "@jupyter-widgets/base",
            "_model_module_version": "1.2.0",
            "_model_name": "LayoutModel",
            "_view_count": null,
            "_view_module": "@jupyter-widgets/base",
            "_view_module_version": "1.2.0",
            "_view_name": "LayoutView",
            "align_content": null,
            "align_items": null,
            "align_self": null,
            "border": null,
            "bottom": null,
            "display": null,
            "flex": null,
            "flex_flow": null,
            "grid_area": null,
            "grid_auto_columns": null,
            "grid_auto_flow": null,
            "grid_auto_rows": null,
            "grid_column": null,
            "grid_gap": null,
            "grid_row": null,
            "grid_template_areas": null,
            "grid_template_columns": null,
            "grid_template_rows": null,
            "height": null,
            "justify_content": null,
            "justify_items": null,
            "left": null,
            "margin": null,
            "max_height": null,
            "max_width": null,
            "min_height": null,
            "min_width": null,
            "object_fit": null,
            "object_position": null,
            "order": null,
            "overflow": null,
            "overflow_x": null,
            "overflow_y": null,
            "padding": null,
            "right": null,
            "top": null,
            "visibility": null,
            "width": null
          }
        },
        "d55c424af7004a0582428e1235087ecf": {
          "model_module": "@jupyter-widgets/controls",
          "model_name": "DescriptionStyleModel",
          "model_module_version": "1.5.0",
          "state": {
            "_model_module": "@jupyter-widgets/controls",
            "_model_module_version": "1.5.0",
            "_model_name": "DescriptionStyleModel",
            "_view_count": null,
            "_view_module": "@jupyter-widgets/base",
            "_view_module_version": "1.2.0",
            "_view_name": "StyleView",
            "description_width": ""
          }
        },
        "6c6071ac70864869b6a988659dcae17b": {
          "model_module": "@jupyter-widgets/controls",
          "model_name": "HBoxModel",
          "model_module_version": "1.5.0",
          "state": {
            "_dom_classes": [],
            "_model_module": "@jupyter-widgets/controls",
            "_model_module_version": "1.5.0",
            "_model_name": "HBoxModel",
            "_view_count": null,
            "_view_module": "@jupyter-widgets/controls",
            "_view_module_version": "1.5.0",
            "_view_name": "HBoxView",
            "box_style": "",
            "children": [
              "IPY_MODEL_ba21747f291d40a09478442882f01972",
              "IPY_MODEL_b4480a2a4974450fa442f81ba6102fbf",
              "IPY_MODEL_6cd53cacb85540d49a77058b5d304fd9"
            ],
            "layout": "IPY_MODEL_8d08aca007eb433081904c0204310ef9"
          }
        },
        "ba21747f291d40a09478442882f01972": {
          "model_module": "@jupyter-widgets/controls",
          "model_name": "HTMLModel",
          "model_module_version": "1.5.0",
          "state": {
            "_dom_classes": [],
            "_model_module": "@jupyter-widgets/controls",
            "_model_module_version": "1.5.0",
            "_model_name": "HTMLModel",
            "_view_count": null,
            "_view_module": "@jupyter-widgets/controls",
            "_view_module_version": "1.5.0",
            "_view_name": "HTMLView",
            "description": "",
            "description_tooltip": null,
            "layout": "IPY_MODEL_813e4e29fcb54113909afdb3f6300d1b",
            "placeholder": "​",
            "style": "IPY_MODEL_5d45bc7e64004eb1b263c52c424c493d",
            "value": "100%"
          }
        },
        "b4480a2a4974450fa442f81ba6102fbf": {
          "model_module": "@jupyter-widgets/controls",
          "model_name": "FloatProgressModel",
          "model_module_version": "1.5.0",
          "state": {
            "_dom_classes": [],
            "_model_module": "@jupyter-widgets/controls",
            "_model_module_version": "1.5.0",
            "_model_name": "FloatProgressModel",
            "_view_count": null,
            "_view_module": "@jupyter-widgets/controls",
            "_view_module_version": "1.5.0",
            "_view_name": "ProgressView",
            "bar_style": "success",
            "description": "",
            "description_tooltip": null,
            "layout": "IPY_MODEL_9a238f5445874706a620834688236081",
            "max": 1,
            "min": 0,
            "orientation": "horizontal",
            "style": "IPY_MODEL_b8bed24945244a3b93a4b92eb85084ff",
            "value": 1
          }
        },
        "6cd53cacb85540d49a77058b5d304fd9": {
          "model_module": "@jupyter-widgets/controls",
          "model_name": "HTMLModel",
          "model_module_version": "1.5.0",
          "state": {
            "_dom_classes": [],
            "_model_module": "@jupyter-widgets/controls",
            "_model_module_version": "1.5.0",
            "_model_name": "HTMLModel",
            "_view_count": null,
            "_view_module": "@jupyter-widgets/controls",
            "_view_module_version": "1.5.0",
            "_view_name": "HTMLView",
            "description": "",
            "description_tooltip": null,
            "layout": "IPY_MODEL_2175fcb9cec043288ff8e18ce34ed0ae",
            "placeholder": "​",
            "style": "IPY_MODEL_6b4d4da70f444d188bad19b180a54c44",
            "value": " 1/1 [00:00&lt;00:00,  7.96ba/s]"
          }
        },
        "8d08aca007eb433081904c0204310ef9": {
          "model_module": "@jupyter-widgets/base",
          "model_name": "LayoutModel",
          "model_module_version": "1.2.0",
          "state": {
            "_model_module": "@jupyter-widgets/base",
            "_model_module_version": "1.2.0",
            "_model_name": "LayoutModel",
            "_view_count": null,
            "_view_module": "@jupyter-widgets/base",
            "_view_module_version": "1.2.0",
            "_view_name": "LayoutView",
            "align_content": null,
            "align_items": null,
            "align_self": null,
            "border": null,
            "bottom": null,
            "display": null,
            "flex": null,
            "flex_flow": null,
            "grid_area": null,
            "grid_auto_columns": null,
            "grid_auto_flow": null,
            "grid_auto_rows": null,
            "grid_column": null,
            "grid_gap": null,
            "grid_row": null,
            "grid_template_areas": null,
            "grid_template_columns": null,
            "grid_template_rows": null,
            "height": null,
            "justify_content": null,
            "justify_items": null,
            "left": null,
            "margin": null,
            "max_height": null,
            "max_width": null,
            "min_height": null,
            "min_width": null,
            "object_fit": null,
            "object_position": null,
            "order": null,
            "overflow": null,
            "overflow_x": null,
            "overflow_y": null,
            "padding": null,
            "right": null,
            "top": null,
            "visibility": null,
            "width": null
          }
        },
        "813e4e29fcb54113909afdb3f6300d1b": {
          "model_module": "@jupyter-widgets/base",
          "model_name": "LayoutModel",
          "model_module_version": "1.2.0",
          "state": {
            "_model_module": "@jupyter-widgets/base",
            "_model_module_version": "1.2.0",
            "_model_name": "LayoutModel",
            "_view_count": null,
            "_view_module": "@jupyter-widgets/base",
            "_view_module_version": "1.2.0",
            "_view_name": "LayoutView",
            "align_content": null,
            "align_items": null,
            "align_self": null,
            "border": null,
            "bottom": null,
            "display": null,
            "flex": null,
            "flex_flow": null,
            "grid_area": null,
            "grid_auto_columns": null,
            "grid_auto_flow": null,
            "grid_auto_rows": null,
            "grid_column": null,
            "grid_gap": null,
            "grid_row": null,
            "grid_template_areas": null,
            "grid_template_columns": null,
            "grid_template_rows": null,
            "height": null,
            "justify_content": null,
            "justify_items": null,
            "left": null,
            "margin": null,
            "max_height": null,
            "max_width": null,
            "min_height": null,
            "min_width": null,
            "object_fit": null,
            "object_position": null,
            "order": null,
            "overflow": null,
            "overflow_x": null,
            "overflow_y": null,
            "padding": null,
            "right": null,
            "top": null,
            "visibility": null,
            "width": null
          }
        },
        "5d45bc7e64004eb1b263c52c424c493d": {
          "model_module": "@jupyter-widgets/controls",
          "model_name": "DescriptionStyleModel",
          "model_module_version": "1.5.0",
          "state": {
            "_model_module": "@jupyter-widgets/controls",
            "_model_module_version": "1.5.0",
            "_model_name": "DescriptionStyleModel",
            "_view_count": null,
            "_view_module": "@jupyter-widgets/base",
            "_view_module_version": "1.2.0",
            "_view_name": "StyleView",
            "description_width": ""
          }
        },
        "9a238f5445874706a620834688236081": {
          "model_module": "@jupyter-widgets/base",
          "model_name": "LayoutModel",
          "model_module_version": "1.2.0",
          "state": {
            "_model_module": "@jupyter-widgets/base",
            "_model_module_version": "1.2.0",
            "_model_name": "LayoutModel",
            "_view_count": null,
            "_view_module": "@jupyter-widgets/base",
            "_view_module_version": "1.2.0",
            "_view_name": "LayoutView",
            "align_content": null,
            "align_items": null,
            "align_self": null,
            "border": null,
            "bottom": null,
            "display": null,
            "flex": null,
            "flex_flow": null,
            "grid_area": null,
            "grid_auto_columns": null,
            "grid_auto_flow": null,
            "grid_auto_rows": null,
            "grid_column": null,
            "grid_gap": null,
            "grid_row": null,
            "grid_template_areas": null,
            "grid_template_columns": null,
            "grid_template_rows": null,
            "height": null,
            "justify_content": null,
            "justify_items": null,
            "left": null,
            "margin": null,
            "max_height": null,
            "max_width": null,
            "min_height": null,
            "min_width": null,
            "object_fit": null,
            "object_position": null,
            "order": null,
            "overflow": null,
            "overflow_x": null,
            "overflow_y": null,
            "padding": null,
            "right": null,
            "top": null,
            "visibility": null,
            "width": null
          }
        },
        "b8bed24945244a3b93a4b92eb85084ff": {
          "model_module": "@jupyter-widgets/controls",
          "model_name": "ProgressStyleModel",
          "model_module_version": "1.5.0",
          "state": {
            "_model_module": "@jupyter-widgets/controls",
            "_model_module_version": "1.5.0",
            "_model_name": "ProgressStyleModel",
            "_view_count": null,
            "_view_module": "@jupyter-widgets/base",
            "_view_module_version": "1.2.0",
            "_view_name": "StyleView",
            "bar_color": null,
            "description_width": ""
          }
        },
        "2175fcb9cec043288ff8e18ce34ed0ae": {
          "model_module": "@jupyter-widgets/base",
          "model_name": "LayoutModel",
          "model_module_version": "1.2.0",
          "state": {
            "_model_module": "@jupyter-widgets/base",
            "_model_module_version": "1.2.0",
            "_model_name": "LayoutModel",
            "_view_count": null,
            "_view_module": "@jupyter-widgets/base",
            "_view_module_version": "1.2.0",
            "_view_name": "LayoutView",
            "align_content": null,
            "align_items": null,
            "align_self": null,
            "border": null,
            "bottom": null,
            "display": null,
            "flex": null,
            "flex_flow": null,
            "grid_area": null,
            "grid_auto_columns": null,
            "grid_auto_flow": null,
            "grid_auto_rows": null,
            "grid_column": null,
            "grid_gap": null,
            "grid_row": null,
            "grid_template_areas": null,
            "grid_template_columns": null,
            "grid_template_rows": null,
            "height": null,
            "justify_content": null,
            "justify_items": null,
            "left": null,
            "margin": null,
            "max_height": null,
            "max_width": null,
            "min_height": null,
            "min_width": null,
            "object_fit": null,
            "object_position": null,
            "order": null,
            "overflow": null,
            "overflow_x": null,
            "overflow_y": null,
            "padding": null,
            "right": null,
            "top": null,
            "visibility": null,
            "width": null
          }
        },
        "6b4d4da70f444d188bad19b180a54c44": {
          "model_module": "@jupyter-widgets/controls",
          "model_name": "DescriptionStyleModel",
          "model_module_version": "1.5.0",
          "state": {
            "_model_module": "@jupyter-widgets/controls",
            "_model_module_version": "1.5.0",
            "_model_name": "DescriptionStyleModel",
            "_view_count": null,
            "_view_module": "@jupyter-widgets/base",
            "_view_module_version": "1.2.0",
            "_view_name": "StyleView",
            "description_width": ""
          }
        },
        "8120788d0f254f869d9d6b85e4cf2583": {
          "model_module": "@jupyter-widgets/controls",
          "model_name": "HBoxModel",
          "model_module_version": "1.5.0",
          "state": {
            "_dom_classes": [],
            "_model_module": "@jupyter-widgets/controls",
            "_model_module_version": "1.5.0",
            "_model_name": "HBoxModel",
            "_view_count": null,
            "_view_module": "@jupyter-widgets/controls",
            "_view_module_version": "1.5.0",
            "_view_name": "HBoxView",
            "box_style": "",
            "children": [
              "IPY_MODEL_d0162993232e4379ab6414aa3fa06ee3",
              "IPY_MODEL_19246bcafaaf488db3992e295b253d2a",
              "IPY_MODEL_5bb83b7b75a9419b98ed50e6665b5ab8"
            ],
            "layout": "IPY_MODEL_eb34ed630f1d47ea88899760831ab869"
          }
        },
        "d0162993232e4379ab6414aa3fa06ee3": {
          "model_module": "@jupyter-widgets/controls",
          "model_name": "HTMLModel",
          "model_module_version": "1.5.0",
          "state": {
            "_dom_classes": [],
            "_model_module": "@jupyter-widgets/controls",
            "_model_module_version": "1.5.0",
            "_model_name": "HTMLModel",
            "_view_count": null,
            "_view_module": "@jupyter-widgets/controls",
            "_view_module_version": "1.5.0",
            "_view_name": "HTMLView",
            "description": "",
            "description_tooltip": null,
            "layout": "IPY_MODEL_37748dc2a29d4385893c6152857e88bb",
            "placeholder": "​",
            "style": "IPY_MODEL_506068e2c22f476da19d9f06cd8e92a1",
            "value": "100%"
          }
        },
        "19246bcafaaf488db3992e295b253d2a": {
          "model_module": "@jupyter-widgets/controls",
          "model_name": "FloatProgressModel",
          "model_module_version": "1.5.0",
          "state": {
            "_dom_classes": [],
            "_model_module": "@jupyter-widgets/controls",
            "_model_module_version": "1.5.0",
            "_model_name": "FloatProgressModel",
            "_view_count": null,
            "_view_module": "@jupyter-widgets/controls",
            "_view_module_version": "1.5.0",
            "_view_name": "ProgressView",
            "bar_style": "success",
            "description": "",
            "description_tooltip": null,
            "layout": "IPY_MODEL_0c58c228205847f78202c33f220aceef",
            "max": 1,
            "min": 0,
            "orientation": "horizontal",
            "style": "IPY_MODEL_224e7670a3c24c66957d1a8cb0cae2e0",
            "value": 1
          }
        },
        "5bb83b7b75a9419b98ed50e6665b5ab8": {
          "model_module": "@jupyter-widgets/controls",
          "model_name": "HTMLModel",
          "model_module_version": "1.5.0",
          "state": {
            "_dom_classes": [],
            "_model_module": "@jupyter-widgets/controls",
            "_model_module_version": "1.5.0",
            "_model_name": "HTMLModel",
            "_view_count": null,
            "_view_module": "@jupyter-widgets/controls",
            "_view_module_version": "1.5.0",
            "_view_name": "HTMLView",
            "description": "",
            "description_tooltip": null,
            "layout": "IPY_MODEL_769bf522f4264cb7a2b573d991432491",
            "placeholder": "​",
            "style": "IPY_MODEL_afabbfba35364718af1bd467fae32139",
            "value": " 1/1 [00:00&lt;00:00,  9.56ba/s]"
          }
        },
        "eb34ed630f1d47ea88899760831ab869": {
          "model_module": "@jupyter-widgets/base",
          "model_name": "LayoutModel",
          "model_module_version": "1.2.0",
          "state": {
            "_model_module": "@jupyter-widgets/base",
            "_model_module_version": "1.2.0",
            "_model_name": "LayoutModel",
            "_view_count": null,
            "_view_module": "@jupyter-widgets/base",
            "_view_module_version": "1.2.0",
            "_view_name": "LayoutView",
            "align_content": null,
            "align_items": null,
            "align_self": null,
            "border": null,
            "bottom": null,
            "display": null,
            "flex": null,
            "flex_flow": null,
            "grid_area": null,
            "grid_auto_columns": null,
            "grid_auto_flow": null,
            "grid_auto_rows": null,
            "grid_column": null,
            "grid_gap": null,
            "grid_row": null,
            "grid_template_areas": null,
            "grid_template_columns": null,
            "grid_template_rows": null,
            "height": null,
            "justify_content": null,
            "justify_items": null,
            "left": null,
            "margin": null,
            "max_height": null,
            "max_width": null,
            "min_height": null,
            "min_width": null,
            "object_fit": null,
            "object_position": null,
            "order": null,
            "overflow": null,
            "overflow_x": null,
            "overflow_y": null,
            "padding": null,
            "right": null,
            "top": null,
            "visibility": null,
            "width": null
          }
        },
        "37748dc2a29d4385893c6152857e88bb": {
          "model_module": "@jupyter-widgets/base",
          "model_name": "LayoutModel",
          "model_module_version": "1.2.0",
          "state": {
            "_model_module": "@jupyter-widgets/base",
            "_model_module_version": "1.2.0",
            "_model_name": "LayoutModel",
            "_view_count": null,
            "_view_module": "@jupyter-widgets/base",
            "_view_module_version": "1.2.0",
            "_view_name": "LayoutView",
            "align_content": null,
            "align_items": null,
            "align_self": null,
            "border": null,
            "bottom": null,
            "display": null,
            "flex": null,
            "flex_flow": null,
            "grid_area": null,
            "grid_auto_columns": null,
            "grid_auto_flow": null,
            "grid_auto_rows": null,
            "grid_column": null,
            "grid_gap": null,
            "grid_row": null,
            "grid_template_areas": null,
            "grid_template_columns": null,
            "grid_template_rows": null,
            "height": null,
            "justify_content": null,
            "justify_items": null,
            "left": null,
            "margin": null,
            "max_height": null,
            "max_width": null,
            "min_height": null,
            "min_width": null,
            "object_fit": null,
            "object_position": null,
            "order": null,
            "overflow": null,
            "overflow_x": null,
            "overflow_y": null,
            "padding": null,
            "right": null,
            "top": null,
            "visibility": null,
            "width": null
          }
        },
        "506068e2c22f476da19d9f06cd8e92a1": {
          "model_module": "@jupyter-widgets/controls",
          "model_name": "DescriptionStyleModel",
          "model_module_version": "1.5.0",
          "state": {
            "_model_module": "@jupyter-widgets/controls",
            "_model_module_version": "1.5.0",
            "_model_name": "DescriptionStyleModel",
            "_view_count": null,
            "_view_module": "@jupyter-widgets/base",
            "_view_module_version": "1.2.0",
            "_view_name": "StyleView",
            "description_width": ""
          }
        },
        "0c58c228205847f78202c33f220aceef": {
          "model_module": "@jupyter-widgets/base",
          "model_name": "LayoutModel",
          "model_module_version": "1.2.0",
          "state": {
            "_model_module": "@jupyter-widgets/base",
            "_model_module_version": "1.2.0",
            "_model_name": "LayoutModel",
            "_view_count": null,
            "_view_module": "@jupyter-widgets/base",
            "_view_module_version": "1.2.0",
            "_view_name": "LayoutView",
            "align_content": null,
            "align_items": null,
            "align_self": null,
            "border": null,
            "bottom": null,
            "display": null,
            "flex": null,
            "flex_flow": null,
            "grid_area": null,
            "grid_auto_columns": null,
            "grid_auto_flow": null,
            "grid_auto_rows": null,
            "grid_column": null,
            "grid_gap": null,
            "grid_row": null,
            "grid_template_areas": null,
            "grid_template_columns": null,
            "grid_template_rows": null,
            "height": null,
            "justify_content": null,
            "justify_items": null,
            "left": null,
            "margin": null,
            "max_height": null,
            "max_width": null,
            "min_height": null,
            "min_width": null,
            "object_fit": null,
            "object_position": null,
            "order": null,
            "overflow": null,
            "overflow_x": null,
            "overflow_y": null,
            "padding": null,
            "right": null,
            "top": null,
            "visibility": null,
            "width": null
          }
        },
        "224e7670a3c24c66957d1a8cb0cae2e0": {
          "model_module": "@jupyter-widgets/controls",
          "model_name": "ProgressStyleModel",
          "model_module_version": "1.5.0",
          "state": {
            "_model_module": "@jupyter-widgets/controls",
            "_model_module_version": "1.5.0",
            "_model_name": "ProgressStyleModel",
            "_view_count": null,
            "_view_module": "@jupyter-widgets/base",
            "_view_module_version": "1.2.0",
            "_view_name": "StyleView",
            "bar_color": null,
            "description_width": ""
          }
        },
        "769bf522f4264cb7a2b573d991432491": {
          "model_module": "@jupyter-widgets/base",
          "model_name": "LayoutModel",
          "model_module_version": "1.2.0",
          "state": {
            "_model_module": "@jupyter-widgets/base",
            "_model_module_version": "1.2.0",
            "_model_name": "LayoutModel",
            "_view_count": null,
            "_view_module": "@jupyter-widgets/base",
            "_view_module_version": "1.2.0",
            "_view_name": "LayoutView",
            "align_content": null,
            "align_items": null,
            "align_self": null,
            "border": null,
            "bottom": null,
            "display": null,
            "flex": null,
            "flex_flow": null,
            "grid_area": null,
            "grid_auto_columns": null,
            "grid_auto_flow": null,
            "grid_auto_rows": null,
            "grid_column": null,
            "grid_gap": null,
            "grid_row": null,
            "grid_template_areas": null,
            "grid_template_columns": null,
            "grid_template_rows": null,
            "height": null,
            "justify_content": null,
            "justify_items": null,
            "left": null,
            "margin": null,
            "max_height": null,
            "max_width": null,
            "min_height": null,
            "min_width": null,
            "object_fit": null,
            "object_position": null,
            "order": null,
            "overflow": null,
            "overflow_x": null,
            "overflow_y": null,
            "padding": null,
            "right": null,
            "top": null,
            "visibility": null,
            "width": null
          }
        },
        "afabbfba35364718af1bd467fae32139": {
          "model_module": "@jupyter-widgets/controls",
          "model_name": "DescriptionStyleModel",
          "model_module_version": "1.5.0",
          "state": {
            "_model_module": "@jupyter-widgets/controls",
            "_model_module_version": "1.5.0",
            "_model_name": "DescriptionStyleModel",
            "_view_count": null,
            "_view_module": "@jupyter-widgets/base",
            "_view_module_version": "1.2.0",
            "_view_name": "StyleView",
            "description_width": ""
          }
        }
      }
    },
    "accelerator": "GPU"
  },
  "nbformat": 4,
  "nbformat_minor": 0
}